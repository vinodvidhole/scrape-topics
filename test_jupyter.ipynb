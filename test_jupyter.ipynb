{
 "cells": [
  {
   "cell_type": "code",
   "execution_count": 1,
   "id": "68684ca1",
   "metadata": {},
   "outputs": [],
   "source": [
    "def fact(m):\n",
    "    if m == 0:\n",
    "        return 1\n",
    "    else:\n",
    "        return m * fact(m-1)"
   ]
  },
  {
   "cell_type": "code",
   "execution_count": 2,
   "id": "2c3aed14",
   "metadata": {},
   "outputs": [
    {
     "data": {
      "text/plain": [
       "362880"
      ]
     },
     "execution_count": 2,
     "metadata": {},
     "output_type": "execute_result"
    }
   ],
   "source": [
    "fact(9)"
   ]
  },
  {
   "cell_type": "code",
   "execution_count": 4,
   "id": "79beb4cc",
   "metadata": {},
   "outputs": [
    {
     "name": "stdout",
     "output_type": "stream",
     "text": [
      "Collecting jovian\n",
      "  Downloading jovian-0.2.41-py2.py3-none-any.whl (68 kB)\n",
      "\u001b[K     |████████████████████████████████| 68 kB 2.8 MB/s eta 0:00:011\n",
      "\u001b[?25hRequirement already satisfied: requests in /opt/miniconda3/envs/my-env/lib/python3.8/site-packages (from jovian) (2.27.1)\n",
      "Collecting uuid\n",
      "  Downloading uuid-1.30.tar.gz (5.8 kB)\n",
      "Collecting pyyaml\n",
      "  Downloading PyYAML-6.0-cp38-cp38-macosx_10_9_x86_64.whl (192 kB)\n",
      "\u001b[K     |████████████████████████████████| 192 kB 4.4 MB/s eta 0:00:01\n",
      "\u001b[?25hRequirement already satisfied: click in /opt/miniconda3/envs/my-env/lib/python3.8/site-packages (from jovian) (8.0.3)\n",
      "Requirement already satisfied: urllib3<1.27,>=1.21.1 in /opt/miniconda3/envs/my-env/lib/python3.8/site-packages (from requests->jovian) (1.26.8)\n",
      "Requirement already satisfied: idna<4,>=2.5 in /opt/miniconda3/envs/my-env/lib/python3.8/site-packages (from requests->jovian) (3.3)\n",
      "Requirement already satisfied: charset-normalizer~=2.0.0 in /opt/miniconda3/envs/my-env/lib/python3.8/site-packages (from requests->jovian) (2.0.12)\n",
      "Requirement already satisfied: certifi>=2017.4.17 in /opt/miniconda3/envs/my-env/lib/python3.8/site-packages (from requests->jovian) (2021.10.8)\n",
      "Building wheels for collected packages: uuid\n",
      "  Building wheel for uuid (setup.py) ... \u001b[?25ldone\n",
      "\u001b[?25h  Created wheel for uuid: filename=uuid-1.30-py3-none-any.whl size=6503 sha256=17413b39620964b82824232c08be04e31225a9c5ebf758e4af32449c15131934\n",
      "  Stored in directory: /Users/vinoddhole/Library/Caches/pip/wheels/1b/6c/cb/f9aae2bc97333c3d6e060826c1ee9e44e46306a178e5783505\n",
      "Successfully built uuid\n",
      "Installing collected packages: uuid, pyyaml, jovian\n",
      "Successfully installed jovian-0.2.41 pyyaml-6.0 uuid-1.30\n"
     ]
    }
   ],
   "source": [
    "!pip install jovian "
   ]
  },
  {
   "cell_type": "code",
   "execution_count": 3,
   "id": "b8dbcc83",
   "metadata": {},
   "outputs": [
    {
     "data": {
      "application/javascript": [
       "if (window.IPython && IPython.notebook.kernel) IPython.notebook.kernel.execute('jovian.utils.jupyter.get_notebook_name_saved = lambda: \"' + IPython.notebook.notebook_name + '\"')"
      ],
      "text/plain": [
       "<IPython.core.display.Javascript object>"
      ]
     },
     "metadata": {},
     "output_type": "display_data"
    }
   ],
   "source": [
    "import jovian"
   ]
  },
  {
   "cell_type": "code",
   "execution_count": null,
   "id": "0d73349d",
   "metadata": {},
   "outputs": [
    {
     "data": {
      "application/javascript": [
       "window.require && require([\"base/js/namespace\"],function(Jupyter){Jupyter.notebook.save_checkpoint()})"
      ],
      "text/plain": [
       "<IPython.core.display.Javascript object>"
      ]
     },
     "metadata": {},
     "output_type": "display_data"
    }
   ],
   "source": [
    "jovian.commit(git_commit=True)"
   ]
  },
  {
   "cell_type": "code",
   "execution_count": null,
   "id": "7b3d3d5f",
   "metadata": {},
   "outputs": [],
   "source": []
  }
 ],
 "metadata": {
  "kernelspec": {
   "display_name": "Python 3 (ipykernel)",
   "language": "python",
   "name": "python3"
  },
  "language_info": {
   "codemirror_mode": {
    "name": "ipython",
    "version": 3
   },
   "file_extension": ".py",
   "mimetype": "text/x-python",
   "name": "python",
   "nbconvert_exporter": "python",
   "pygments_lexer": "ipython3",
   "version": "3.8.12"
  }
 },
 "nbformat": 4,
 "nbformat_minor": 5
}
